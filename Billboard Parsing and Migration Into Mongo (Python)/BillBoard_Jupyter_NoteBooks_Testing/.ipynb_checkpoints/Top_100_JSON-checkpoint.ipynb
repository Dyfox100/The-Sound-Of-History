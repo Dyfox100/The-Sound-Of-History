{
 "cells": [
  {
   "cell_type": "code",
   "execution_count": 2,
   "metadata": {
    "collapsed": true
   },
   "outputs": [],
   "source": [
    "# import sys\n",
    "# !{sys.executable} -m pip install billboard.py\n",
    "# #!{sys.executable} -m pip install pandas\n"
   ]
  },
  {
   "cell_type": "code",
   "execution_count": 3,
   "metadata": {
    "collapsed": true
   },
   "outputs": [],
   "source": [
    "import billboard as bb\n",
    "import pandas as pd\n",
    "from datetime import datetime as dt\n",
    "from datetime import timedelta as td"
   ]
  },
  {
   "cell_type": "code",
   "execution_count": 4,
   "metadata": {
    "collapsed": true
   },
   "outputs": [],
   "source": [
    "def BillBoard_Hot100_Parser(numSongsToTrack=3, numYears=1, isVerbose=False):\n",
    "    \"\"\"\n",
    "    FUNCTIONALITY:\n",
    "        Takes chart to follow, number of top songs to track, number of years to go back, and a verbosity flag.\n",
    "        Prints progress during execution and prints top 5 rows upon compeletion if verbosity flag is set to true.\n",
    "        Pulls the billboard hot 100 chart for the number of years back from today (current week).\n",
    "        Adds the numSongsToTrack top songs to pandas dataframe w/ 1 Row = 1 Week.\n",
    "        Dataframe columns = beginDate (for the week of the chart), endDate, artist<i>, title<i>,\n",
    "        peakPosition<i>, positionLastWeek<i>,  weeksOnChart<i>. <i> is the ranking of the current song.\n",
    "        For example the #1 ranked song of the week is artist1, title1, etc.\n",
    "        There is one artist column, one title column... etc for each song tracked as passed in by the numSongsToTrack parameter.\n",
    "    RETURN VALUE:\n",
    "        Pandas DataFrame\n",
    "    ERRORS:\n",
    "        if numSongsToTrack <= 0 or > 100 Prints Error Message and returns None.\n",
    "        If numYears <= 0 Prints Error Message and returns None.\n",
    "        If numYears exceeds total history of billboard charts, prints warning and returns dataframe up to end of charts.\n",
    "    NOTES:\n",
    "        Takes a while; be patient and use the verbosity flag if you want to make sure it is working.\n",
    "        How long it takes is internet-speed dependent.\"\"\"\n",
    "    \n",
    "    \n",
    "    if numSongsToTrack <= 0 or numSongsToTrack > 100:\n",
    "        print(\"Error: Num Songs cannont less than or equal to 0 or greater than 100.\")\n",
    "        return None\n",
    "    if numYears <= 0:\n",
    "        print(\"Error: Num Years cannont be less than or equal to 0.\")\n",
    "        return None\n",
    "    \n",
    "    \n",
    "    df = pd.DataFrame()\n",
    "    \n",
    "    #Gets current chart\n",
    "    chart = bb.ChartData('hot-100')\n",
    "\n",
    "    numWeeksGotten = 0\n",
    "    numWeeks = numYears * 52\n",
    "    if isVerbose:\n",
    "        print(\"Total Number of Weeks To Process: {}\\n\".format(numWeeks))\n",
    "    \n",
    "    #while there is another chart to get and number of weeks doesn't exceed that passed in.\n",
    "    while (chart.date and numWeeksGotten < numWeeks):\n",
    "        \n",
    "         #catches error where billbard interface doesn't return a chart, just gets chart for -1 day from date.\n",
    "        try:\n",
    "            testVar = chart[0].title\n",
    "        except:\n",
    "            dateTimeStart = dt.strptime(endDate, \"%Y-%m-%d\")\n",
    "            dateTimeStartMinusOne = dateTimeStart + td(days=(-1))\n",
    "            strBeginDate = dateTimeStartMinusOne.strftime(\"%Y-%m-%d\")\n",
    "            chart = bb.ChartData('hot-100', strBeginDate)\n",
    "        \n",
    "        #converts adds one to chart previous date through python's datetime module\n",
    "        #to get correct begining date for chart\n",
    "        endDate = chart.date\n",
    "        previousDate = chart.previousDate\n",
    "        dateTimePrevious = dt.strptime(previousDate, \"%Y-%m-%d\")\n",
    "        dateTimePreviousPlusOne = dateTimePrevious + td(days=1)\n",
    "        strBeginDate = dateTimePreviousPlusOne.strftime(\"%Y-%m-%d\")\n",
    "        \n",
    "        #appends info to a temporary dictionary that later is converted to a dataframe\n",
    "        dfToAppend = {}\n",
    "        dfToAppend['endDate'] = endDate\n",
    "        dfToAppend['beginDate'] = strBeginDate\n",
    "        \n",
    "        #iterates through the correct numSongs as passed above and adds to dataframe.\n",
    "        for ii in range(0, numSongsToTrack):\n",
    "\n",
    "            strII = str(ii+1)\n",
    "\n",
    "            strTitle = 'title_'+strII\n",
    "            dfToAppend[strTitle] = chart[ii].title\n",
    "\n",
    "            strArtist = 'artist_' + strII\n",
    "            dfToAppend[strArtist] = chart[ii].artist\n",
    "\n",
    "            strPeakPos = 'peakPosition_' + strII\n",
    "            dfToAppend[strPeakPos] = chart[ii].peakPos\n",
    "\n",
    "            strLastPos = 'positionLastWeek_' + strII\n",
    "            dfToAppend[strLastPos] = chart[ii].lastPos\n",
    "\n",
    "            strWeeksOnChart = 'weeksOnChart_' + strII\n",
    "            dfToAppend[strWeeksOnChart] = chart[ii].weeks\n",
    "        \n",
    "         #converts dict to dataframe   \n",
    "        dfToAppend =pd.DataFrame(dfToAppend, index =[endDate])\n",
    "        \n",
    "        #appends dataframe to whole dataframe\n",
    "        df = df.append(dfToAppend)\n",
    "        \n",
    "        numWeeksGotten += 1\n",
    "        if isVerbose:\n",
    "            print(\"Number of Weeks Processed: {}\\n\".format(numWeeksGotten))\n",
    "            \n",
    "        dfToAppend = None\n",
    "        \n",
    "        #gets previous chart\n",
    "        chart = bb.ChartData('hot-100', chart.previousDate)\n",
    "        \n",
    "           \n",
    "    if numWeeksGotten < numWeeks:\n",
    "        print(\"Warning: numYears exceeds total history of top-100 chart.\")\n",
    "        \n",
    "    if isVerbose:\n",
    "        print(df.head())\n",
    "            \n",
    "    return df"
   ]
  },
  {
   "cell_type": "code",
   "execution_count": 5,
   "metadata": {
    "collapsed": true
   },
   "outputs": [],
   "source": [
    "def get_All_Time_200(numToGet=200):\n",
    "    \"\"\"\n",
    "    FUNCTIONALITY:\n",
    "        Takes number of songs to get and retrieves the top <numToGet> songs from the billboard all-time top 200 Chart.\n",
    "        Creates Pandas DataFrame with artist, song title, rank.\n",
    "    RETURN VALUE:\n",
    "        Pandas DataFrame\n",
    "    Errors:\n",
    "        Prints error message and returns None if numToGet <= 0.\n",
    "        Prints warning and returns full chart if numToGet >= 200\"\"\"\n",
    "    \n",
    "    #Error Messages\n",
    "    if numToGet <= 0:\n",
    "        print(\"Error: Cannot Get 0 or Less Songs\")\n",
    "        return None\n",
    "    if numToGet > 200:\n",
    "        print(\"Warning: Cannont get more than 200 Songs. Full Chart Returned\")\n",
    "        \n",
    "     #creating dataframe and getting chart   \n",
    "    df = pd.DataFrame()\n",
    "    chart = bb.ChartData('greatest-billboard-200-albums')\n",
    "\n",
    "    #appends info about one song to a dictionary, then converts to data frame, then appends to original dataframe.\n",
    "    for ii in range(numToGet):\n",
    "\n",
    "            dictToMakeDF = {}\n",
    "\n",
    "            dictToMakeDF['title'] = chart[ii].title\n",
    "\n",
    "            dictToMakeDF['artist'] = chart[ii].artist\n",
    "            \n",
    "            dictToMakeDF['rank'] = chart[ii].rank\n",
    "\n",
    "            dfToAppend = pd.DataFrame(dictToMakeDF, index=[ii+1])\n",
    "\n",
    "            df = df.append(dfToAppend)\n",
    "            \n",
    "            \n",
    "    return df"
   ]
  },
  {
   "cell_type": "code",
   "execution_count": 6,
   "metadata": {},
   "outputs": [
    {
     "name": "stdout",
     "output_type": "stream",
     "text": [
      "Error: Num Songs cannont less than or equal to 0 or greater than 100.\n"
     ]
    }
   ],
   "source": [
    "df = BillBoard_Hot100_Parser(numSongsToTrack=100, numYears=53, isVerbose=True)\n",
    "df = get_All_Time_200(numToGet=200)"
   ]
  },
  {
   "cell_type": "code",
   "execution_count": 7,
   "metadata": {
    "collapsed": true
   },
   "outputs": [],
   "source": [
    "df.to_json(path_or_buf=\"hot_100_charts.json\", orient='index')"
   ]
  }
 ],
 "metadata": {
  "kernelspec": {
   "display_name": "Python 3",
   "language": "python",
   "name": "python3"
  },
  "language_info": {
   "codemirror_mode": {
    "name": "ipython",
    "version": 3
   },
   "file_extension": ".py",
   "mimetype": "text/x-python",
   "name": "python",
   "nbconvert_exporter": "python",
   "pygments_lexer": "ipython3",
   "version": "3.6.1"
  }
 },
 "nbformat": 4,
 "nbformat_minor": 2
}
