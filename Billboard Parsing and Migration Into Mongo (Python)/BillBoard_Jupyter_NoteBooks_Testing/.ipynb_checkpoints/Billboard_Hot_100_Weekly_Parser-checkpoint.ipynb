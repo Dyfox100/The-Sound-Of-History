{
 "cells": [
  {
   "cell_type": "markdown",
   "metadata": {},
   "source": [
    "DEPENDENCIES: Python 3, pandas (numpy required for pandas), billboard.py unofficial billboard api"
   ]
  },
  {
   "cell_type": "code",
   "execution_count": 1,
   "metadata": {},
   "outputs": [
    {
     "ename": "ModuleNotFoundError",
     "evalue": "No module named 'billboard'",
     "output_type": "error",
     "traceback": [
      "\u001b[0;31m---------------------------------------------------------------------------\u001b[0m",
      "\u001b[0;31mModuleNotFoundError\u001b[0m                       Traceback (most recent call last)",
      "\u001b[0;32m<ipython-input-1-79dde98a3761>\u001b[0m in \u001b[0;36m<module>\u001b[0;34m()\u001b[0m\n\u001b[0;32m----> 1\u001b[0;31m \u001b[0;32mimport\u001b[0m \u001b[0mbillboard\u001b[0m \u001b[0;32mas\u001b[0m \u001b[0mbb\u001b[0m\u001b[0;34m\u001b[0m\u001b[0m\n\u001b[0m\u001b[1;32m      2\u001b[0m \u001b[0;32mimport\u001b[0m \u001b[0mpandas\u001b[0m \u001b[0;32mas\u001b[0m \u001b[0mpd\u001b[0m\u001b[0;34m\u001b[0m\u001b[0m\n\u001b[1;32m      3\u001b[0m \u001b[0;32mfrom\u001b[0m \u001b[0mdatetime\u001b[0m \u001b[0;32mimport\u001b[0m \u001b[0mdatetime\u001b[0m \u001b[0;32mas\u001b[0m \u001b[0mdt\u001b[0m\u001b[0;34m\u001b[0m\u001b[0m\n\u001b[1;32m      4\u001b[0m \u001b[0;32mfrom\u001b[0m \u001b[0mdatetime\u001b[0m \u001b[0;32mimport\u001b[0m \u001b[0mtimedelta\u001b[0m \u001b[0;32mas\u001b[0m \u001b[0mtd\u001b[0m\u001b[0;34m\u001b[0m\u001b[0m\n",
      "\u001b[0;31mModuleNotFoundError\u001b[0m: No module named 'billboard'"
     ]
    }
   ],
   "source": [
    "import billboard as bb\n",
    "import pandas as pd\n",
    "from datetime import datetime as dt\n",
    "from datetime import timedelta as td"
   ]
  },
  {
   "cell_type": "markdown",
   "metadata": {},
   "source": [
    "This notebook uses the open source billboard.py scrpaer to pull billboard top 100 charts up to a desired number of years, tracking a desired number of top songs. It then outputs the results to a JSON object and saves the json object in 'hot_100_charts.json' in the current directory. After use move 'hot_100_charts.json' out of the folder to avoid pushing it to git every time. "
   ]
  },
  {
   "cell_type": "code",
   "execution_count": null,
   "metadata": {
    "collapsed": true
   },
   "outputs": [],
   "source": [
    "def BillBoard_Hot100_Parser(numSongsToTrack=3, numYears=1, isVerbose=False):\n",
    "    \"\"\"\n",
    "    FUNCTIONALITY:\n",
    "        Takes chart to follow, number of top songs to track, number of years to go back, and a verbosity flag.\n",
    "        Prints progress during execution and prints top 5 rows upon compeletion if verbosity flag is set to true.\n",
    "        Pulls the billboard hot 100 chart for the number of years back from today (current week).\n",
    "        Adds the numSongsToTrack top songs to pandas dataframe w/ 1 Row = 1 Week.\n",
    "        Dataframe columns = beginDate (for the week of the chart), endDate, artist<i>, title<i>,\n",
    "        peakPosition<i>, positionLastWeek<i>,  weeksOnChart<i>. <i> is the ranking of the current song.\n",
    "        For example the #1 ranked song of the week is artist1, title1, etc.\n",
    "        There is one artist column, one title column... etc for each song tracked as passed in by the numSongsToTrack parameter.\n",
    "    RETURN VALUE:\n",
    "        Pandas DataFrame\n",
    "    ERRORS:\n",
    "        if numSongsToTrack <= 0 or > 100 Prints Error Message and returns None.\n",
    "        If numYears <= 0 Prints Error Message and returns None.\n",
    "        If numYears exceeds total history of billboard charts, prints warning and returns dataframe up to end of charts.\n",
    "    NOTES:\n",
    "        Takes a while; be patient and use the verbosity flag if you want to make sure it is working.\n",
    "        How long it takes is internet-speed dependent.\"\"\"\n",
    "    \n",
    "    \n",
    "    if numSongsToTrack <= 0 or numSongsToTrack >= 100:\n",
    "        print(\"Error: Num Songs cannont less than or equal to 0 or greater than 100.\")\n",
    "        return None\n",
    "    if numYears <= 0:\n",
    "        print(\"Error: Num Years cannont be less than or equal to 0.\")\n",
    "        return None\n",
    "    \n",
    "    \n",
    "    df = pd.DataFrame()\n",
    "    \n",
    "    #Gets current chart\n",
    "    chart = bb.ChartData('hot-100')\n",
    "\n",
    "    numWeeksGotten = 0\n",
    "    numWeeks = numYears * 52\n",
    "    if isVerbose:\n",
    "        print(\"Total Number of Weeks To Process: {}\\n\".format(numWeeks))\n",
    "    \n",
    "    #while there is another chart to get and number of weeks doesn't exceed that passed in.\n",
    "    while (chart.date and numWeeksGotten < numWeeks):\n",
    "        \n",
    "        #converts adds one to chart previous date through python's datetime module\n",
    "        #to get correct begining date for chart\n",
    "        endDate = chart.date\n",
    "        previousDate = chart.previousDate\n",
    "        dateTimePrevious = dt.strptime(previousDate, \"%Y-%m-%d\")\n",
    "        dateTimePreviousPlusOne = dateTimePrevious + td(days=1)\n",
    "        strBeginDate = dateTimePreviousPlusOne.strftime(\"%Y-%m-%d\")\n",
    "        \n",
    "        #appends info to a temporary dictionary that later is converted to a dataframe\n",
    "        dfToAppend = {}\n",
    "        dfToAppend['endDate'] = endDate\n",
    "        dfToAppend['beginDate'] = strBeginDate\n",
    "        \n",
    "        #iterates through the correct numSongs as passed above and adds to dataframe.\n",
    "        for ii in range(0, numSongsToTrack):\n",
    "\n",
    "            strII = str(ii+1)\n",
    "\n",
    "            strTitle = 'title_'+strII\n",
    "            dfToAppend[strTitle] = chart[ii].title\n",
    "\n",
    "            strArtist = 'artist_' + strII\n",
    "            dfToAppend[strArtist] = chart[ii].artist\n",
    "\n",
    "            strPeakPos = 'peakPosition_' + strII\n",
    "            dfToAppend[strPeakPos] = chart[ii].peakPos\n",
    "\n",
    "            strLastPos = 'positionLastWeek_' + strII\n",
    "            dfToAppend[strLastPos] = chart[ii].lastPos\n",
    "\n",
    "            strWeeksOnChart = 'weeksOnChart_' + strII\n",
    "            dfToAppend[strWeeksOnChart] = chart[ii].weeks\n",
    "        \n",
    "         #converts dict to dataframe   \n",
    "        dfToAppend =pd.DataFrame(dfToAppend, index =[endDate])\n",
    "        \n",
    "        #appends dataframe to whole dataframe\n",
    "        df = df.append(dfToAppend)\n",
    "        \n",
    "        numWeeksGotten += 1\n",
    "        if isVerbose:\n",
    "            print(\"Number of Weeks Processed: {}\\n\".format(numWeeksGotten))\n",
    "            \n",
    "        dfToAppend = None\n",
    "        \n",
    "        #gets previous chart\n",
    "        chart = bb.ChartData('hot-100', chart.previousDate)\n",
    "        \n",
    "           \n",
    "    if numWeeksGotten < numWeeks:\n",
    "        print(\"Warning: numYears exceeds total history of top-100 chart.\")\n",
    "        \n",
    "    if isVerbose:\n",
    "        print(df.head())\n",
    "            \n",
    "    return df"
   ]
  },
  {
   "cell_type": "code",
   "execution_count": null,
   "metadata": {},
   "outputs": [],
   "source": [
    "df = BillBoard_Parser(numSongsToTrack=3, numYears=1, isVerbose=True)"
   ]
  },
  {
   "cell_type": "code",
   "execution_count": null,
   "metadata": {
    "collapsed": true
   },
   "outputs": [],
   "source": [
    "df.to_json(path_or_buf=\"hot_100_charts.json\", orient='index')"
   ]
  },
  {
   "cell_type": "code",
   "execution_count": null,
   "metadata": {
    "collapsed": true
   },
   "outputs": [],
   "source": []
  }
 ],
 "metadata": {
  "kernelspec": {
   "display_name": "Python 3",
   "language": "python",
   "name": "python3"
  },
  "language_info": {
   "codemirror_mode": {
    "name": "ipython",
    "version": 3
   },
   "file_extension": ".py",
   "mimetype": "text/x-python",
   "name": "python",
   "nbconvert_exporter": "python",
   "pygments_lexer": "ipython3",
   "version": "3.6.1"
  }
 },
 "nbformat": 4,
 "nbformat_minor": 2
}
