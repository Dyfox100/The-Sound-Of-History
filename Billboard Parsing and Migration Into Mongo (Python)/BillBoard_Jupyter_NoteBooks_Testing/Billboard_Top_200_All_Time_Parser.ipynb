{
 "cells": [
  {
   "cell_type": "markdown",
   "metadata": {},
   "source": [
    "DEPENDENCIES: Python 3, pandas (numpy required for pandas), billboard.py unofficial billboard api"
   ]
  },
  {
   "cell_type": "code",
   "execution_count": 19,
   "metadata": {},
   "outputs": [],
   "source": [
    "import billboard as bb\n",
    "import pandas as pd"
   ]
  },
  {
   "cell_type": "markdown",
   "metadata": {},
   "source": [
    "This notebook pulls the top-200 all time chart from billboard and exports to a JSON object saved in 'top_200_all_time.json'. After use move 'top_200_all_time.json' out of the folder to avoid pushing it to git every time.  "
   ]
  },
  {
   "cell_type": "code",
   "execution_count": 24,
   "metadata": {},
   "outputs": [],
   "source": [
    "def get_All_Time_200(numToGet=200):\n",
    "    \"\"\"\n",
    "    FUNCTIONALITY:\n",
    "        Takes number of songs to get and retrieves the top <numToGet> songs from the billboard all-time top 200 Chart.\n",
    "        Creates Pandas DataFrame with artist, song title, rank.\n",
    "    RETURN VALUE:\n",
    "        Pandas DataFrame\n",
    "    Errors:\n",
    "        Prints error message and returns None if numToGet <= 0.\n",
    "        Prints warning and returns full chart if numToGet >= 200\"\"\"\n",
    "    \n",
    "    #Error Messages\n",
    "    if numToGet <= 0:\n",
    "        print(\"Error: Cannot Get 0 or Less Songs\")\n",
    "        return None\n",
    "    if numToGet > 200:\n",
    "        print(\"Warning: Cannont get more than 200 Songs. Full Chart Returned\")\n",
    "        \n",
    "     #creating dataframe and getting chart   \n",
    "    df = pd.DataFrame()\n",
    "    chart = bb.ChartData('greatest-billboard-200-albums')\n",
    "\n",
    "    #appends info about one song to a dictionary, then converts to data frame, then appends to original dataframe.\n",
    "    for ii in range(numToGet):\n",
    "\n",
    "            dictToMakeDF = {}\n",
    "\n",
    "            dictToMakeDF['title'] = chart[ii].title\n",
    "\n",
    "            dictToMakeDF['artist'] = chart[ii].artist\n",
    "            \n",
    "            dictToMakeDF['rank'] = chart[ii].rank\n",
    "\n",
    "            dfToAppend = pd.DataFrame(dictToMakeDF, index=[ii+1])\n",
    "\n",
    "            df = df.append(dfToAppend)\n",
    "            \n",
    "            \n",
    "    return df\n",
    "\n",
    "    "
   ]
  },
  {
   "cell_type": "code",
   "execution_count": 25,
   "metadata": {},
   "outputs": [],
   "source": [
    "df = get_All_Time_200(numToGet=200)"
   ]
  },
  {
   "cell_type": "code",
   "execution_count": 26,
   "metadata": {},
   "outputs": [],
   "source": [
    "df.to_json(path_or_buf=\"top_200_all_time.json\", orient='index')"
   ]
  },
  {
   "cell_type": "code",
   "execution_count": null,
   "metadata": {},
   "outputs": [],
   "source": []
  }
 ],
 "metadata": {
  "kernelspec": {
   "display_name": "Python 3",
   "language": "python",
   "name": "python3"
  },
  "language_info": {
   "codemirror_mode": {
    "name": "ipython",
    "version": 3
   },
   "file_extension": ".py",
   "mimetype": "text/x-python",
   "name": "python",
   "nbconvert_exporter": "python",
   "pygments_lexer": "ipython3",
   "version": "3.6.4"
  }
 },
 "nbformat": 4,
 "nbformat_minor": 2
}
